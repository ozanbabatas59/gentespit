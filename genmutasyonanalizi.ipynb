{
  "nbformat": 4,
  "nbformat_minor": 0,
  "metadata": {
    "colab": {
      "provenance": [],
      "gpuType": "L4"
    },
    "kernelspec": {
      "name": "python3",
      "display_name": "Python 3"
    },
    "language_info": {
      "name": "python"
    },
    "accelerator": "GPU"
  },
  "cells": [
    {
      "cell_type": "code",
      "execution_count": 30,
      "metadata": {
        "colab": {
          "base_uri": "https://localhost:8080/"
        },
        "id": "VzySkYIM-4B5",
        "outputId": "bc94546b-fddf-4c33-ee3e-94777d1c89c6"
      },
      "outputs": [
        {
          "output_type": "stream",
          "name": "stdout",
          "text": [
            "Requirement already satisfied: biopython in /usr/local/lib/python3.11/dist-packages (1.85)\n",
            "Requirement already satisfied: numpy in /usr/local/lib/python3.11/dist-packages (from biopython) (1.26.4)\n"
          ]
        }
      ],
      "source": [
        "!pip install --upgrade biopython\n"
      ]
    },
    {
      "cell_type": "code",
      "source": [
        "from Bio.Seq import Seq\n",
        "\n",
        "# Gen bilgileri ve mutasyonlar\n",
        "genler = {\n",
        "    \"BRCA1\": \"ATGCGATACGCTAGCTAGCTAGCTAGCTA\",\n",
        "    \"TP53\": \"ATGCGATACGCTAGCTAGCTAGCTAGCTA\",\n",
        "    \"EGFR\": \"ATGCGATACGCTAGCTAGCTAGCTAGCTA\"\n",
        "}\n",
        "\n",
        "mutasyonlar = {\n",
        "    \"BRCA1\": [\"A123G\", \"C234T\"],  # BRCA1 için mutasyonlar\n",
        "    \"TP53\": [\"G345C\"],            # TP53 için mutasyonlar\n",
        "    \"EGFR\": [\"T456A\", \"G567A\"]    # EGFR için mutasyonlar\n",
        "}\n",
        "\n",
        "# Örnek DNA dizisi\n",
        "hasta_dna_dizisi = \"ATGCGATACGCTAGCTAGCTAGCTAGCTA\"\n",
        "\n",
        "def hastalik_analizi(genler, mutasyonlar, hasta_dna):\n",
        "    for gen, dizi in genler.items():\n",
        "        dna = Seq(dizi)\n",
        "        hasta_dna_seq = Seq(hasta_dna)\n",
        "        for mutasyon in mutasyonlar[gen]:\n",
        "\n",
        "            mutasyona_ugramis_dizi = str(dna).replace('A', 'G') if mutasyon.startswith('A') else str(dna)\n",
        "\n",
        "            if mutasyona_ugramis_dizi == str(hasta_dna_seq):\n",
        "                print(f\"🧬 {gen} geninde {mutasyon} mutasyonu tespit edildi.\")\n",
        "            else:\n",
        "                print(f\"❌ {gen} geninde {mutasyon} mutasyonu tespit edilmedi.\")\n",
        "\n",
        "hastalik_analizi(genler, mutasyonlar, hasta_dna_dizisi)\n"
      ],
      "metadata": {
        "colab": {
          "base_uri": "https://localhost:8080/"
        },
        "id": "BHUwSUI0_wFR",
        "outputId": "efa05d4f-7f48-4c38-b6f4-d439401d85fd"
      },
      "execution_count": 34,
      "outputs": [
        {
          "output_type": "stream",
          "name": "stdout",
          "text": [
            "❌ BRCA1 geninde A123G mutasyonu tespit edilmedi.\n",
            "🧬 BRCA1 geninde C234T mutasyonu tespit edildi.\n",
            "🧬 TP53 geninde G345C mutasyonu tespit edildi.\n",
            "🧬 EGFR geninde T456A mutasyonu tespit edildi.\n",
            "🧬 EGFR geninde G567A mutasyonu tespit edildi.\n"
          ]
        }
      ]
    }
  ]
}